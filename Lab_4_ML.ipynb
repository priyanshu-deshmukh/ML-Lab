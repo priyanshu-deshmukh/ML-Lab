{
  "nbformat": 4,
  "nbformat_minor": 0,
  "metadata": {
    "colab": {
      "provenance": [],
      "authorship_tag": "ABX9TyM0UgY6imGX5/3cGawf/tti",
      "include_colab_link": true
    },
    "kernelspec": {
      "name": "python3",
      "display_name": "Python 3"
    },
    "language_info": {
      "name": "python"
    }
  },
  "cells": [
    {
      "cell_type": "markdown",
      "metadata": {
        "id": "view-in-github",
        "colab_type": "text"
      },
      "source": [
        "<a href=\"https://colab.research.google.com/github/priyanshu-deshmukh/ML-Lab/blob/main/Lab_4_ML.ipynb\" target=\"_parent\"><img src=\"https://colab.research.google.com/assets/colab-badge.svg\" alt=\"Open In Colab\"/></a>"
      ]
    },
    {
      "cell_type": "code",
      "execution_count": null,
      "metadata": {
        "id": "-5ag2Uy_1tCv"
      },
      "outputs": [],
      "source": [
        "import numpy as np\n",
        "from sklearn.neighbors import KNeighborsClassifier\n",
        "from sklearn.metrics import confusion_matrix, ConfusionMatrixDisplay\n",
        "import matplotlib.pyplot as plt"
      ]
    },
    {
      "cell_type": "code",
      "source": [
        "# Small sample dataset (2D points)\n",
        "# Features: [height (cm), weight (kg)]\n",
        "X = np.array([\n",
        "    [150, 50],\n",
        "    [160, 60],\n",
        "    [170, 65],\n",
        "    [180, 80],\n",
        "    [190, 85],\n",
        "    [200, 90]\n",
        "])"
      ],
      "metadata": {
        "id": "GK7bYl4J29um"
      },
      "execution_count": null,
      "outputs": []
    },
    {
      "cell_type": "code",
      "source": [
        "# Labels: 0 = Class A, 1 = Class B\n",
        "y = np.array([0, 0, 0, 1, 1, 1])"
      ],
      "metadata": {
        "id": "c3JKu2Le3Aj6"
      },
      "execution_count": null,
      "outputs": []
    },
    {
      "cell_type": "code",
      "source": [
        "# Create and train the model\n",
        "knn = KNeighborsClassifier(n_neighbors=3)\n",
        "knn.fit(X, y)"
      ],
      "metadata": {
        "id": "3YJX7sbN3CRJ"
      },
      "execution_count": null,
      "outputs": []
    },
    {
      "cell_type": "code",
      "source": [
        "# Test on new points\n",
        "X_test = np.array([\n",
        "    [155, 55],  # Should be Class A\n",
        "    [185, 82]   # Should be Class B\n",
        "])"
      ],
      "metadata": {
        "id": "T9y2-pN23DvF"
      },
      "execution_count": null,
      "outputs": []
    },
    {
      "cell_type": "code",
      "source": [
        "# The actual labels for the test data\n",
        "y_test = np.array([0, 1])"
      ],
      "metadata": {
        "id": "X-XIxB9j3FW7"
      },
      "execution_count": null,
      "outputs": []
    },
    {
      "cell_type": "code",
      "source": [
        "# Predict the classes for the test data\n",
        "y_pred = knn.predict(X_test)\n",
        "print(f\"Predictions: {y_pred}\")"
      ],
      "metadata": {
        "id": "qCWwsxkS3Guz"
      },
      "execution_count": null,
      "outputs": []
    },
    {
      "cell_type": "code",
      "source": [
        "# Evaluate using a confusion matrix\n",
        "cm = confusion_matrix(y_test, y_pred)\n",
        "disp = ConfusionMatrixDisplay(confusion_matrix=cm, display_labels=[\"Class A\", \"Class B\"])"
      ],
      "metadata": {
        "id": "EIB1Kewn3H0L"
      },
      "execution_count": null,
      "outputs": []
    },
    {
      "cell_type": "code",
      "source": [
        "# Plot the confusion matrix\n",
        "disp.plot()\n",
        "plt.title(\"Confusion Matrix\")\n",
        "plt.show()"
      ],
      "metadata": {
        "id": "FhStTQFs3JEM"
      },
      "execution_count": null,
      "outputs": []
    }
  ]
}