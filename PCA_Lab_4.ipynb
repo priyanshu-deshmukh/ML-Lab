{
  "nbformat": 4,
  "nbformat_minor": 0,
  "metadata": {
    "colab": {
      "provenance": [],
      "authorship_tag": "ABX9TyPvyTnBalrILTQfFFEBwNN8",
      "include_colab_link": true
    },
    "kernelspec": {
      "name": "python3",
      "display_name": "Python 3"
    },
    "language_info": {
      "name": "python"
    }
  },
  "cells": [
    {
      "cell_type": "markdown",
      "metadata": {
        "id": "view-in-github",
        "colab_type": "text"
      },
      "source": [
        "<a href=\"https://colab.research.google.com/github/priyanshu-deshmukh/ML-Lab/blob/main/PCA_Lab_4.ipynb\" target=\"_parent\"><img src=\"https://colab.research.google.com/assets/colab-badge.svg\" alt=\"Open In Colab\"/></a>"
      ]
    },
    {
      "cell_type": "code",
      "source": [
        "import numpy as np\n",
        "import pandas as pd\n",
        "import matplotlib.pyplot as plt"
      ],
      "metadata": {
        "id": "LdXzbz7zrh2j"
      },
      "execution_count": null,
      "outputs": []
    },
    {
      "cell_type": "code",
      "source": [
        "data = [\n",
        "    [2.5, 2.4, 1.2],\n",
        "    [0.5, 0.7, 0.3],\n",
        "    [2.2, 2.9, 1.4],\n",
        "    [1.9, 2.2, 1.1],\n",
        "    [3.1, 3.0, 1.7],\n",
        "    [2.3, 2.7, 1.5],\n",
        "    [2.0, 1.6, 0.9],\n",
        "    [1.0, 1.1, 0.4],\n",
        "    [1.5, 1.6, 0.8],\n",
        "    [1.1, 0.9, 0.2]\n",
        "]"
      ],
      "metadata": {
        "id": "iXfZrKoErh0D"
      },
      "execution_count": null,
      "outputs": []
    },
    {
      "cell_type": "code",
      "source": [
        "df = pd.DataFrame(data, columns=['X', 'Y', 'Z'])\n",
        "print(\"Original DataFrame:\")\n",
        "print(df)"
      ],
      "metadata": {
        "colab": {
          "base_uri": "https://localhost:8080/"
        },
        "id": "yp_DnOkjrhxb",
        "outputId": "06465c92-e4ea-47b8-e7f6-14efc4c6ad2d"
      },
      "execution_count": null,
      "outputs": [
        {
          "output_type": "stream",
          "name": "stdout",
          "text": [
            "Original DataFrame:\n",
            "     X    Y    Z\n",
            "0  2.5  2.4  1.2\n",
            "1  0.5  0.7  0.3\n",
            "2  2.2  2.9  1.4\n",
            "3  1.9  2.2  1.1\n",
            "4  3.1  3.0  1.7\n",
            "5  2.3  2.7  1.5\n",
            "6  2.0  1.6  0.9\n",
            "7  1.0  1.1  0.4\n",
            "8  1.5  1.6  0.8\n",
            "9  1.1  0.9  0.2\n"
          ]
        }
      ]
    },
    {
      "cell_type": "code",
      "source": [
        "#step -1\n",
        "std_data = (df - df.mean()) / df.std()\n",
        "print(\"\\nStandardized Data:\")\n",
        "print(std_data)\n"
      ],
      "metadata": {
        "colab": {
          "base_uri": "https://localhost:8080/"
        },
        "id": "xA2fYY6CrhvG",
        "outputId": "9f8d6b5c-1c01-44fa-fbfa-6f17f8ec7ecc"
      },
      "execution_count": null,
      "outputs": [
        {
          "output_type": "stream",
          "name": "stdout",
          "text": [
            "\n",
            "Standardized Data:\n",
            "          X         Y         Z\n",
            "0  0.878745  0.578857  0.477697\n",
            "1 -1.668342 -1.429422 -1.242013\n",
            "2  0.496682  1.169527  0.859855\n",
            "3  0.114619  0.342589  0.286618\n",
            "4  1.642872  1.287661  1.433092\n",
            "5  0.624036  0.933259  1.050934\n",
            "6  0.241973 -0.366216 -0.095539\n",
            "7 -1.031570 -0.956886 -1.050934\n",
            "8 -0.394799 -0.366216 -0.286618\n",
            "9 -0.904216 -1.193154 -1.433092\n"
          ]
        }
      ]
    },
    {
      "cell_type": "code",
      "source": [
        "cov_matrix = np.cov(std_data.T)\n",
        "print(\"\\nCovariance Matrix:\")\n",
        "print(cov_matrix)"
      ],
      "metadata": {
        "colab": {
          "base_uri": "https://localhost:8080/"
        },
        "id": "AgomTPyJrhsj",
        "outputId": "fef532b4-f1ba-46cc-ceea-8dc9c738b79f"
      },
      "execution_count": null,
      "outputs": [
        {
          "output_type": "stream",
          "name": "stdout",
          "text": [
            "\n",
            "Covariance Matrix:\n",
            "[[1.         0.92592927 0.93688744]\n",
            " [0.92592927 1.         0.98192228]\n",
            " [0.93688744 0.98192228 1.        ]]\n"
          ]
        }
      ]
    },
    {
      "cell_type": "code",
      "source": [
        "eig_vals, eig_vecs = np.linalg.eig(cov_matrix)\n",
        "print(\"\\nEigenvalues:\")\n",
        "print(eig_vals)\n",
        "print(\"\\nEigenvectors:\")\n",
        "print(eig_vecs)"
      ],
      "metadata": {
        "colab": {
          "base_uri": "https://localhost:8080/"
        },
        "id": "LT5pmWqtrhpz",
        "outputId": "c2066588-983e-4fbc-dedf-91e2d36c1572"
      },
      "execution_count": null,
      "outputs": [
        {
          "output_type": "stream",
          "name": "stdout",
          "text": [
            "\n",
            "Eigenvalues:\n",
            "[2.89670115 0.08582574 0.01747311]\n",
            "\n",
            "Eigenvectors:\n",
            "[[ 0.57041595  0.81767389 -0.07768556]\n",
            " [ 0.57969966 -0.46779003 -0.66717374]\n",
            " [ 0.58187108 -0.33553224  0.74084017]]\n"
          ]
        }
      ]
    },
    {
      "cell_type": "code",
      "source": [
        "sorted_indices = np.argsort(eig_vals)[::-1]\n",
        "sorted_eig_vals = eig_vals[sorted_indices]\n",
        "sorted_eig_vecs = eig_vecs[:, sorted_indices]\n",
        "print(\"\\nSorted Eigenvalues:\")\n",
        "print(sorted_eig_vals)\n",
        "print(\"\\nSorted Eigenvectors:\")\n",
        "print(sorted_eig_vecs)"
      ],
      "metadata": {
        "colab": {
          "base_uri": "https://localhost:8080/"
        },
        "id": "AJUcMEEyrhil",
        "outputId": "58cd4239-4537-401b-cb03-62dd7721344f"
      },
      "execution_count": null,
      "outputs": [
        {
          "output_type": "stream",
          "name": "stdout",
          "text": [
            "\n",
            "Sorted Eigenvalues:\n",
            "[2.89670115 0.08582574 0.01747311]\n",
            "\n",
            "Sorted Eigenvectors:\n",
            "[[ 0.57041595  0.81767389 -0.07768556]\n",
            " [ 0.57969966 -0.46779003 -0.66717374]\n",
            " [ 0.58187108 -0.33553224  0.74084017]]\n"
          ]
        }
      ]
    },
    {
      "cell_type": "code",
      "source": [
        "eig_vecs_subset = sorted_eig_vecs[:, :2]"
      ],
      "metadata": {
        "id": "Ljm9YW6Uua5c"
      },
      "execution_count": null,
      "outputs": []
    },
    {
      "cell_type": "code",
      "source": [
        "reduced_data = std_data.to_numpy().dot(eig_vecs_subset)\n",
        "reduced_df = pd.DataFrame(reduced_data, columns=['PC1', 'PC2'])"
      ],
      "metadata": {
        "id": "HPc4qbTDul1k"
      },
      "execution_count": null,
      "outputs": []
    },
    {
      "cell_type": "code",
      "source": [
        "print(\"\\nReduced Data (after PCA):\\n\", reduced_df)"
      ],
      "metadata": {
        "colab": {
          "base_uri": "https://localhost:8080/"
        },
        "id": "SFSO6iPTumIk",
        "outputId": "af1af722-0420-41de-f17b-1554f3d82e5a"
      },
      "execution_count": null,
      "outputs": [
        {
          "output_type": "stream",
          "name": "stdout",
          "text": [
            "\n",
            "Reduced Data (after PCA):\n",
            "         PC1       PC2\n",
            "0  1.114772  0.287461\n",
            "1 -2.502976 -0.278755\n",
            "2  1.461615 -0.429478\n",
            "3  0.430754 -0.162708\n",
            "4  2.517452  0.260130\n",
            "5  1.508478 -0.278933\n",
            "6 -0.129861  0.401224\n",
            "7 -1.754639 -0.043244\n",
            "8 -0.604269 -0.055335\n",
            "9 -2.041325  0.299640\n"
          ]
        }
      ]
    },
    {
      "cell_type": "code",
      "source": [
        "plt.figure(figsize=(8,6))\n",
        "plt.scatter(reduced_df['PC1'], reduced_df['PC2'], color = 'blue', edgecolor = 'k')\n",
        "plt.grid(True)\n",
        "plt.title('2D PCA Projection')\n",
        "plt.xlabel('Principal Component 1')\n",
        "plt.ylabel('Principal Component 2')\n",
        "plt.show()"
      ],
      "metadata": {
        "colab": {
          "base_uri": "https://localhost:8080/",
          "height": 564
        },
        "id": "zAy7WBs1vffk",
        "outputId": "e8f3374d-4744-4904-dd32-e16c18ba9dc3"
      },
      "execution_count": null,
      "outputs": [
        {
          "output_type": "display_data",
          "data": {
            "text/plain": [
              "<Figure size 800x600 with 1 Axes>"
            ],
            "image/png": "[encoded data removed]"
          },
          "metadata": {}
        }
      ]
    }
  ]
}