{
 "cells": [
  {
   "cell_type": "code",
   "execution_count": null,
   "id": "d5519a7c-114f-415d-8abb-fdb155677378",
   "metadata": {},
   "outputs": [],
   "source": [
    "import numpy as np\n",
    "import matplotlib.pyplot as plt\n",
    "from sklearn.preprocessing import PolynomialFeatures\n",
    "from sklearn.linear_model import LinearRegression"
   ]
  },
  {
   "cell_type": "code",
   "execution_count": null,
   "id": "a9e08c39-09f3-4c57-b19d-192a483e36aa",
   "metadata": {},
   "outputs": [],
   "source": [
    "X = np.array([[1], [2], [3], [4], [5], [6], [7], [8]])\n",
    "y = np.array([1, 3, 6, 10, 15, 21, 28, 36]) "
   ]
  },
  {
   "cell_type": "code",
   "execution_count": null,
   "id": "b7e3072a-0c58-4c30-a360-d07c6e7685d0",
   "metadata": {},
   "outputs": [],
   "source": [
    "poly = PolynomialFeatures(degree=2)\n",
    "X_poly = poly.fit_transform(X)"
   ]
  },
  {
   "cell_type": "code",
   "execution_count": null,
   "id": "c6949094-660b-4f15-bef7-a11087540bfc",
   "metadata": {},
   "outputs": [],
   "source": [
    "model = LinearRegression()\n",
    "model.fit(X_poly, y)"
   ]
  },
  {
   "cell_type": "code",
   "execution_count": null,
   "id": "3d55603d-c84e-4fd5-8fd8-5cd7eb1438c2",
   "metadata": {},
   "outputs": [],
   "source": [
    "X_test = np.linspace(0, 9, 100).reshape(-1, 1)\n",
    "X_test_poly = poly.transform(X_test)\n",
    "y_pred = model.predict(X_test_poly)"
   ]
  },
  {
   "cell_type": "code",
   "execution_count": null,
   "id": "2e821bbb-5f3b-4f9a-a514-ea2342e8ed7b",
   "metadata": {},
   "outputs": [],
   "source": [
    "plt.figure(figsize=(8, 5))\n",
    "plt.scatter(X, y, color='black', label=\"Data Points\")\n",
    "plt.plot(X_test, y_pred, color='blue', label=\"Polynomial Regression Curve (degree=2)\")\n",
    "plt.title(\"Polynomial Regression Example\")\n",
    "plt.xlabel(\"X\")\n",
    "plt.ylabel(\"y\")\n",
    "plt.grid(True)\n",
    "plt.legend()\n",
    "plt.show()"
   ]
  },
  {
   "cell_type": "code",
   "execution_count": null,
   "id": "10c26441-160c-45dc-8a69-f97352823a1f",
   "metadata": {},
   "outputs": [],
   "source": []
  },
  {
   "cell_type": "code",
   "execution_count": null,
   "id": "6aee439d-e250-411c-b43d-1c91c70c07f1",
   "metadata": {},
   "outputs": [],
   "source": []
  },
  {
   "cell_type": "code",
   "execution_count": null,
   "id": "0a79bbaf-d3a3-4ce3-b017-6caec7caeefc",
   "metadata": {},
   "outputs": [],
   "source": []
  }
 ],
 "metadata": {
  "kernelspec": {
   "display_name": "Python 3 (ipykernel)",
   "language": "python",
   "name": "python3"
  },
  "language_info": {
   "codemirror_mode": {
    "name": "ipython",
    "version": 3
   },
   "file_extension": ".py",
   "mimetype": "text/x-python",
   "name": "python",
   "nbconvert_exporter": "python",
   "pygments_lexer": "ipython3",
   "version": "3.13.7"
  }
 },
 "nbformat": 4,
 "nbformat_minor": 5
}
